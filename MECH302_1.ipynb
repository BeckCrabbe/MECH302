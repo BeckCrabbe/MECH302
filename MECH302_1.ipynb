{
 "cells": [
  {
   "cell_type": "code",
   "execution_count": 24,
   "id": "80116697-fee3-4492-aab3-3948fc69619a",
   "metadata": {},
   "outputs": [
    {
     "name": "stdout",
     "output_type": "stream",
     "text": [
      "Scenario 1:\n",
      "Thruster Activation Times (seconds): [0. 0. 0. 0.]\n",
      "Minimum Objective Value: 300.0\n",
      "\n",
      "Scenario 2:\n",
      "Thruster Activation Times (seconds): [0. 0. 0. 0.]\n",
      "Minimum Objective Value: 300.0\n",
      "\n",
      "Scenario 3:\n",
      "Thruster Activation Times (seconds): [0. 0. 0. 0.]\n",
      "Minimum Objective Value: 300.0\n",
      "\n",
      "Scenario 4:\n",
      "Thruster Activation Times (seconds): [0. 0. 0. 0.]\n",
      "Minimum Objective Value: 300.0\n",
      "\n"
     ]
    }
   ],
   "source": [
    "import numpy as np\n",
    "from scipy.optimize import minimize\n",
    "\n",
    "# Constants\n",
    "m = 2500  # mass of the probe (kg)\n",
    "g = 1.625  # acceleration due to gravity on the Moon (m/s^2)\n",
    "r = np.array([0.6, 0, 0])  # position vector of the thrusters (m)\n",
    "F_E = np.array([0, 500, 0])  # force exerted by main thruster (N)\n",
    "F_20 = np.array([[20, 0, 0], [0, 20, 0], [0, 0, 20], [0, 0, 20]])  # force exerted by each of the four 20-N thrusters (N)\n",
    "\n",
    "# Inertia matrix and angular velocity\n",
    "I_xx = m * (0.98 ** 2)\n",
    "I_yy = m * (1.06 ** 2)\n",
    "I_zz = m * (1.02 ** 2)\n",
    "I = np.diag([I_xx, I_yy, I_zz])\n",
    "w_desired = np.array([[0.04, 0, 0.06],\n",
    "                      [0.06, 0, -0.04],\n",
    "                      [0.06, 0, 0.02],\n",
    "                      [0.06, 0, -0.02]])\n",
    "\n",
    "# Function to minimize\n",
    "def objective_function(F_times_t):\n",
    "    return np.linalg.norm(np.cross(r, F_E) + np.sum(np.cross(r, F_20 * F_times_t[:, np.newaxis]), axis=0), axis=0)\n",
    "\n",
    "# Constraints\n",
    "def constraint_eq(F_times_t, w_d):\n",
    "    r_shape = np.array(r).shape[0]  # Ensure r is a numpy array\n",
    "    F_E_shape = np.array(F_E).shape[0]\n",
    "    F_20_shape = np.array(F_20).shape[0]\n",
    "    F_times_t_shape = np.array(F_times_t).shape[0]\n",
    "\n",
    "    if r_shape != 3 or F_E_shape != 3 or F_20_shape != 4 or F_times_t_shape != 4:\n",
    "        raise ValueError(\"Incompatible dimensions for cross product (dimension must be 3 for r, F_E, and 4 for F_20 and F_times_t)\")\n",
    "\n",
    "    return w_d - np.linalg.inv(I) @ (np.cross(r, F_E) + np.sum(np.cross(r, F_20 * F_times_t[:, np.newaxis]), axis=0))\n",
    "\n",
    "# Solve for each desired angular velocity\n",
    "for i, w_d in enumerate(w_desired, start=1):\n",
    "    # Initial guess for optimization\n",
    "    x0 = np.zeros(4)\n",
    "    \n",
    "    # Bounds for optimization (thruster activation times)\n",
    "    bounds = [(0, None)] * 4\n",
    "    \n",
    "    # Constraints\n",
    "    cons = {'type': 'eq', 'fun': lambda F_times_t: constraint_eq(F_times_t, w_d)}\n",
    "    \n",
    "    # Minimize the objective function\n",
    "    result = minimize(objective_function, x0, method='SLSQP', bounds=bounds, constraints=cons)\n",
    "    \n",
    "    # Print results\n",
    "    print(f\"Scenario {i}:\")\n",
    "    print(\"Thruster Activation Times (seconds):\", result.x)\n",
    "    print(\"Minimum Objective Value:\", result.fun)\n",
    "    print()\n"
   ]
  },
  {
   "cell_type": "code",
   "execution_count": null,
   "id": "bbf7e265-4539-4276-8aa3-c128d7dda9c9",
   "metadata": {},
   "outputs": [],
   "source": []
  }
 ],
 "metadata": {
  "kernelspec": {
   "display_name": "Python 3 (ipykernel)",
   "language": "python",
   "name": "python3"
  },
  "language_info": {
   "codemirror_mode": {
    "name": "ipython",
    "version": 3
   },
   "file_extension": ".py",
   "mimetype": "text/x-python",
   "name": "python",
   "nbconvert_exporter": "python",
   "pygments_lexer": "ipython3",
   "version": "3.10.9"
  }
 },
 "nbformat": 4,
 "nbformat_minor": 5
}
